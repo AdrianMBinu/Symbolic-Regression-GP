{
  "nbformat": 4,
  "nbformat_minor": 0,
  "metadata": {
    "colab": {
      "provenance": []
    },
    "kernelspec": {
      "name": "python3",
      "display_name": "Python 3"
    },
    "language_info": {
      "name": "python"
    }
  },
  "cells": [
    {
      "cell_type": "code",
      "execution_count": 1,
      "metadata": {
        "colab": {
          "base_uri": "https://localhost:8080/"
        },
        "id": "jQgIp28jcbsk",
        "outputId": "14524523-71ac-4d8d-9a3d-0c70334f19a0"
      },
      "outputs": [
        {
          "output_type": "stream",
          "name": "stdout",
          "text": [
            "Collecting deap\n",
            "  Downloading deap-1.4.1-cp310-cp310-manylinux_2_5_x86_64.manylinux1_x86_64.manylinux_2_17_x86_64.manylinux2014_x86_64.whl.metadata (13 kB)\n",
            "Requirement already satisfied: numpy in /usr/local/lib/python3.10/dist-packages (from deap) (1.26.4)\n",
            "Downloading deap-1.4.1-cp310-cp310-manylinux_2_5_x86_64.manylinux1_x86_64.manylinux_2_17_x86_64.manylinux2014_x86_64.whl (135 kB)\n",
            "\u001b[2K   \u001b[90m━━━━━━━━━━━━━━━━━━━━━━━━━━━━━━━━━━━━━━━━\u001b[0m \u001b[32m135.4/135.4 kB\u001b[0m \u001b[31m1.5 MB/s\u001b[0m eta \u001b[36m0:00:00\u001b[0m\n",
            "\u001b[?25hInstalling collected packages: deap\n",
            "Successfully installed deap-1.4.1\n"
          ]
        }
      ],
      "source": [
        "#install DEAP\n",
        "!pip install deap"
      ]
    },
    {
      "cell_type": "code",
      "source": [
        "#import required packages\n",
        "\n",
        "import operator\n",
        "import math\n",
        "import random\n",
        "\n",
        "import numpy\n",
        "\n",
        "from functools import partial\n",
        "\n",
        "from deap import algorithms\n",
        "from deap import base\n",
        "from deap import creator\n",
        "from deap import tools\n",
        "from deap import gp\n"
      ],
      "metadata": {
        "id": "4TlvrBfCchSA"
      },
      "execution_count": 2,
      "outputs": []
    },
    {
      "cell_type": "code",
      "source": [
        "\n",
        "# Define new functions\n",
        "def protectedDiv(left, right):\n",
        "    try:\n",
        "        return left / right\n",
        "    except ZeroDivisionError:\n",
        "        return 1\n",
        "\n",
        "pset = gp.PrimitiveSet(\"MAIN\", 1)\n",
        "pset.addPrimitive(operator.add, 2)\n",
        "pset.addPrimitive(operator.sub, 2)\n",
        "pset.addPrimitive(operator.mul, 2)\n",
        "pset.addPrimitive(protectedDiv, 2)\n",
        "pset.addPrimitive(operator.neg, 1)\n",
        "pset.addPrimitive(math.cos, 1)\n",
        "pset.addPrimitive(math.sin, 1)\n",
        "pset.addEphemeralConstant(\"rand101\", partial(random.randint, -1, 1))\n",
        "pset.renameArguments(ARG0='x')\n",
        "\n",
        "creator.create(\"FitnessMin\", base.Fitness, weights=(-1.0,))\n",
        "creator.create(\"Individual\", gp.PrimitiveTree, fitness=creator.FitnessMin)\n",
        "\n",
        "toolbox = base.Toolbox()\n",
        "toolbox.register(\"expr\", gp.genHalfAndHalf, pset=pset, min_=1, max_=2)\n",
        "toolbox.register(\"individual\", tools.initIterate, creator.Individual, toolbox.expr)\n",
        "toolbox.register(\"population\", tools.initRepeat, list, toolbox.individual)\n",
        "toolbox.register(\"compile\", gp.compile, pset=pset)\n",
        "\n",
        "def evalSymbReg(individual, points):\n",
        "    # Transform the tree expression in a callable function\n",
        "    func = toolbox.compile(expr=individual)\n",
        "    # Evaluate the mean squared error between the expression\n",
        "    # and the real function : x**4 + x**3 + x**2 + x\n",
        "    sqerrors = ((func(x) - x**4 - x**3 - x**2 - x)**2 for x in points)\n",
        "    return math.fsum(sqerrors) / len(points),\n",
        "\n",
        "toolbox.register(\"evaluate\", evalSymbReg, points=[x/10. for x in range(-10,10)])\n",
        "toolbox.register(\"select\", tools.selTournament, tournsize=3)\n",
        "toolbox.register(\"mate\", gp.cxOnePoint)\n",
        "toolbox.register(\"expr_mut\", gp.genFull, min_=0, max_=2)\n",
        "toolbox.register(\"mutate\", gp.mutUniform, expr=toolbox.expr_mut, pset=pset)\n",
        "\n",
        "toolbox.decorate(\"mate\", gp.staticLimit(key=operator.attrgetter(\"height\"), max_value=17))\n",
        "toolbox.decorate(\"mutate\", gp.staticLimit(key=operator.attrgetter(\"height\"), max_value=17))\n"
      ],
      "metadata": {
        "id": "vLKClcwuchn4"
      },
      "execution_count": 3,
      "outputs": []
    },
    {
      "cell_type": "code",
      "source": [
        "#def main\n",
        "# results\n",
        "\n",
        "def main():\n",
        "    random.seed(2)\n",
        "\n",
        "    pop = toolbox.population(n=300)\n",
        "    hof = tools.HallOfFame(1)\n",
        "\n",
        "    stats_fit = tools.Statistics(lambda ind: ind.fitness.values)\n",
        "    stats_size = tools.Statistics(len)\n",
        "    mstats = tools.MultiStatistics(fitness=stats_fit, size=stats_size)\n",
        "    mstats.register(\"avg\", numpy.mean)\n",
        "    mstats.register(\"std\", numpy.std)\n",
        "    mstats.register(\"min\", numpy.min)\n",
        "    mstats.register(\"max\", numpy.max)\n",
        "\n",
        "    pop, log = algorithms.eaSimple(pop, toolbox, 0.5, 0.1, 50, stats=mstats,\n",
        "                                   halloffame=None, verbose=True)\n",
        "    # print log\n",
        "    return pop, log, hof\n",
        "\n",
        "if __name__ == \"__main__\":\n",
        "    main()"
      ],
      "metadata": {
        "colab": {
          "base_uri": "https://localhost:8080/"
        },
        "id": "VSAgGiUKf64X",
        "outputId": "b77bee18-7804-4ce4-c420-9efa7c0cf3ac"
      },
      "execution_count": 4,
      "outputs": [
        {
          "output_type": "stream",
          "name": "stdout",
          "text": [
            "   \t      \t                        fitness                        \t                     size                     \n",
            "   \t      \t-------------------------------------------------------\t----------------------------------------------\n",
            "gen\tnevals\tavg    \tgen\tmax    \tmin     \tnevals\tstd    \tavg    \tgen\tmax\tmin\tnevals\tstd   \n",
            "0  \t300   \t2.01574\t0  \t21.8347\t0.165572\t300   \t2.65547\t3.54333\t0  \t7  \t2  \t300   \t1.5016\n",
            "1  \t171   \t1.08236\t1  \t16.1606\t0.165572\t171   \t1.07706\t3.60333\t1  \t11 \t1  \t171   \t1.74528\n",
            "2  \t169   \t0.943453\t2  \t18.9739\t0.165572\t169   \t1.43192\t3.80333\t2  \t10 \t1  \t169   \t1.87741\n",
            "3  \t156   \t0.722882\t3  \t4.09456\t0.165572\t156   \t0.451121\t3.75   \t3  \t12 \t1  \t156   \t2.12466\n",
            "4  \t166   \t0.723457\t4  \t6.50856\t0.165572\t166   \t0.59796 \t4.44333\t4  \t12 \t1  \t166   \t2.4386 \n",
            "5  \t161   \t0.635288\t5  \t4.09456\t0.146271\t161   \t0.497803\t5.25667\t5  \t12 \t1  \t161   \t2.50947\n",
            "6  \t174   \t0.712857\t6  \t13.8349\t0.165572\t174   \t1.29506 \t6.49   \t6  \t15 \t1  \t174   \t2.49731\n",
            "7  \t170   \t0.555053\t7  \t4.55733\t0.080882\t170   \t0.582847\t6.81667\t7  \t12 \t1  \t170   \t2.04688\n",
            "8  \t162   \t0.540125\t8  \t13.8349\t0.104114\t162   \t1.10917 \t7.23333\t8  \t14 \t1  \t162   \t2.1769 \n",
            "9  \t163   \t0.613374\t9  \t23.7532\t0.104114\t163   \t1.74087 \t7.69   \t9  \t17 \t1  \t163   \t2.24066\n",
            "10 \t163   \t0.477801\t10 \t13.8349\t0.0815661\t163   \t0.947724\t7.64333\t10 \t14 \t1  \t163   \t2.14386\n",
            "11 \t164   \t0.935919\t11 \t56.688 \t0.014351 \t164   \t4.0359  \t8.21667\t11 \t20 \t1  \t164   \t2.55142\n",
            "12 \t164   \t0.751924\t12 \t30.2624\t0.014351 \t164   \t2.41052 \t8.91667\t12 \t17 \t1  \t164   \t2.62737\n",
            "13 \t168   \t0.439699\t13 \t16.0317\t0.014351 \t168   \t1.07511 \t9.34   \t13 \t19 \t1  \t168   \t2.50687\n",
            "14 \t156   \t0.841791\t14 \t98.1449\t0.00666402\t156   \t5.88018 \t9.94333\t14 \t21 \t1  \t156   \t2.90634\n",
            "15 \t177   \t4.14733 \t15 \t1082.37\t0.00666402\t177   \t62.3706 \t10.2733\t15 \t21 \t3  \t177   \t3.15573\n",
            "16 \t184   \t0.365516\t16 \t6.1116 \t0.00666402\t184   \t0.645395\t11.01  \t16 \t26 \t3  \t184   \t3.67195\n",
            "17 \t160   \t0.380876\t17 \t16.1073\t0.00666402\t160   \t1.08504 \t11.7767\t17 \t28 \t3  \t160   \t3.72202\n",
            "18 \t171   \t0.710547\t18 \t54.5792\t0.00666402\t171   \t3.49673 \t11.8333\t18 \t25 \t1  \t171   \t3.47355\n",
            "19 \t192   \t0.652742\t19 \t17.2151\t0.00666402\t192   \t2.04392 \t11.94  \t19 \t25 \t1  \t192   \t3.20152\n",
            "20 \t159   \t0.412578\t20 \t15.3247\t0.00666402\t159   \t1.30677 \t11.55  \t20 \t21 \t1  \t159   \t2.5549 \n",
            "21 \t162   \t0.82108 \t21 \t80.0725\t0.00666402\t162   \t4.87212 \t11.4933\t21 \t26 \t1  \t162   \t2.81483\n",
            "22 \t144   \t0.507342\t22 \t54.8036\t0.00666402\t144   \t3.29911 \t11.6067\t22 \t24 \t1  \t144   \t3.01529\n",
            "23 \t162   \t0.68367 \t23 \t54.7572\t0.00666402\t162   \t3.46265 \t11.8867\t23 \t21 \t1  \t162   \t3.21566\n",
            "24 \t187   \t0.391479\t24 \t15.0264\t0.00666402\t187   \t1.01606 \t11.86  \t24 \t23 \t1  \t187   \t3.60561\n",
            "25 \t166   \t0.288429\t25 \t6.5859 \t0.00666402\t166   \t0.585483\t11.93  \t25 \t24 \t3  \t166   \t3.25143\n",
            "26 \t159   \t1.28899 \t26 \t266.203\t0.00666402\t159   \t15.422  \t11.6067\t26 \t21 \t1  \t159   \t3.61644\n",
            "27 \t154   \t0.254074\t27 \t6.00259\t0.00666402\t154   \t0.631471\t12.11  \t27 \t21 \t1  \t154   \t2.68165\n",
            "28 \t178   \t0.25228 \t28 \t6.14665\t0.00666402\t178   \t0.576464\t11.9467\t28 \t25 \t1  \t178   \t3.71535\n",
            "29 \t153   \t0.307875\t29 \t12.3314\t0.00666402\t153   \t0.94382 \t12.1067\t29 \t27 \t1  \t153   \t3.57612\n",
            "30 \t151   \t0.286262\t30 \t22.0856\t0.00666402\t151   \t1.3343  \t12.0667\t30 \t21 \t1  \t151   \t3.0192 \n",
            "31 \t156   \t0.267348\t31 \t9.12456\t0.00666402\t156   \t0.703525\t12.0867\t31 \t29 \t1  \t156   \t3.62664\n",
            "32 \t170   \t0.30159 \t32 \t4.24583\t4.50668e-33\t170   \t0.568146\t12.07  \t32 \t29 \t1  \t170   \t3.38602\n",
            "33 \t180   \t0.302669\t33 \t6.5859 \t4.50668e-33\t180   \t0.632654\t12.1167\t33 \t25 \t1  \t180   \t3.82139\n",
            "34 \t169   \t0.37645 \t34 \t38.5295\t4.50668e-33\t169   \t2.25103 \t12.13  \t34 \t26 \t1  \t169   \t3.62028\n",
            "35 \t150   \t0.214181\t35 \t4.24583\t4.50668e-33\t150   \t0.439267\t12.2667\t35 \t26 \t1  \t150   \t3.31294\n",
            "36 \t178   \t0.338137\t36 \t16.9479\t4.50668e-33\t178   \t1.22124 \t12.1733\t36 \t28 \t1  \t178   \t3.89999\n",
            "37 \t158   \t0.443392\t37 \t55.2091\t4.50668e-33\t158   \t3.27089 \t12.2733\t37 \t26 \t1  \t158   \t3.41545\n",
            "38 \t165   \t0.238933\t38 \t4.24583\t4.50668e-33\t165   \t0.483157\t12.6067\t38 \t26 \t3  \t165   \t3.81994\n",
            "39 \t160   \t0.991964\t39 \t235.343\t4.50668e-33\t160   \t13.558  \t13.2533\t39 \t31 \t1  \t160   \t4.5147 \n",
            "40 \t162   \t0.269114\t40 \t4.24583\t4.50668e-33\t162   \t0.580965\t14.2667\t40 \t37 \t2  \t162   \t5.03146\n",
            "41 \t167   \t1.05508 \t41 \t235.343\t4.50668e-33\t167   \t13.5614 \t15.4833\t41 \t33 \t3  \t167   \t5.14034\n",
            "42 \t175   \t1.00348 \t42 \t235.343\t4.50668e-33\t175   \t13.558  \t16.2767\t42 \t31 \t3  \t175   \t5.23579\n",
            "43 \t169   \t0.218397\t43 \t2.40833\t4.50668e-33\t169   \t0.373203\t16.96  \t43 \t34 \t2  \t169   \t5.19151\n",
            "44 \t157   \t0.254413\t44 \t15.5923\t4.50668e-33\t157   \t0.981134\t17.2333\t44 \t45 \t1  \t157   \t6.00602\n",
            "45 \t154   \t0.180214\t45 \t3.72607\t4.50668e-33\t154   \t0.353373\t17.26  \t45 \t44 \t1  \t154   \t5.6967 \n",
            "46 \t148   \t0.241096\t46 \t14.538 \t4.50668e-33\t148   \t0.949411\t17.1067\t46 \t40 \t1  \t148   \t5.19185\n",
            "47 \t166   \t0.211239\t47 \t4.97474\t4.50668e-33\t166   \t0.44376 \t17.4633\t47 \t43 \t1  \t166   \t6.1277 \n",
            "48 \t161   \t0.230917\t48 \t2.9829 \t4.50668e-33\t161   \t0.460875\t17.5533\t48 \t44 \t1  \t161   \t5.78623\n",
            "49 \t171   \t0.241723\t49 \t18.3589\t4.50668e-33\t171   \t1.09973 \t17.9133\t49 \t44 \t3  \t171   \t5.91037\n",
            "50 \t162   \t0.291697\t50 \t4.21907\t4.50668e-33\t162   \t0.594001\t18.1   \t50 \t49 \t2  \t162   \t7.18123\n"
          ]
        }
      ]
    },
    {
      "cell_type": "code",
      "source": [],
      "metadata": {
        "id": "vbr_HuEtYfP5"
      },
      "execution_count": 4,
      "outputs": []
    },
    {
      "cell_type": "code",
      "source": [],
      "metadata": {
        "id": "koboPSF2Yfky"
      },
      "execution_count": 4,
      "outputs": []
    },
    {
      "cell_type": "code",
      "source": [],
      "metadata": {
        "id": "tu1QFkf9Yf2X"
      },
      "execution_count": 4,
      "outputs": []
    }
  ]
}